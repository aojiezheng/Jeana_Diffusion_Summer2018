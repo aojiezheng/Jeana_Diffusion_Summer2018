{
 "cells": [
  {
   "cell_type": "code",
   "execution_count": 3,
   "metadata": {},
   "outputs": [
    {
     "name": "stdout",
     "output_type": "stream",
     "text": [
      "       Hello, World!\n"
     ]
    }
   ],
   "source": [
    "x=\"Hello, World!\"\n",
    "y=format(x,'>20s')      #space to the right \n",
    "print(y)"
   ]
  },
  {
   "cell_type": "code",
   "execution_count": 10,
   "metadata": {},
   "outputs": [
    {
     "name": "stdout",
     "output_type": "stream",
     "text": [
      "0.17\n"
     ]
    }
   ],
   "source": [
    "a = 1/6\n",
    "b = format (a, '.2f')   #print only the decimal to second place\n",
    "print(b)"
   ]
  },
  {
   "cell_type": "code",
   "execution_count": 11,
   "metadata": {},
   "outputs": [
    {
     "name": "stdout",
     "output_type": "stream",
     "text": [
      "52.000000%\n"
     ]
    }
   ],
   "source": [
    "a=0.52\n",
    "print(format(a,'%'))"
   ]
  },
  {
   "cell_type": "code",
   "execution_count": 15,
   "metadata": {},
   "outputs": [
    {
     "data": {
      "text/plain": [
       "'200,000,000'"
      ]
     },
     "execution_count": 15,
     "metadata": {},
     "output_type": "execute_result"
    }
   ],
   "source": [
    "a = 200000000\n",
    "format (a, ',d')"
   ]
  },
  {
   "cell_type": "code",
   "execution_count": 28,
   "metadata": {},
   "outputs": [
    {
     "data": {
      "text/plain": [
       "'harry'"
      ]
     },
     "execution_count": 28,
     "metadata": {},
     "output_type": "execute_result"
    }
   ],
   "source": [
    "string_lc = str.lower('Harry') \n",
    "string_lc "
   ]
  },
  {
   "cell_type": "code",
   "execution_count": 26,
   "metadata": {},
   "outputs": [
    {
     "name": "stdout",
     "output_type": "stream",
     "text": [
      "5\n"
     ]
    }
   ],
   "source": [
    "myname = 'harry'\n",
    "print (len(myname))"
   ]
  },
  {
   "cell_type": "code",
   "execution_count": 29,
   "metadata": {},
   "outputs": [
    {
     "name": "stdout",
     "output_type": "stream",
     "text": [
      "grade89\n",
      "A\n"
     ]
    }
   ],
   "source": [
    "g=float(input('grade'))\n",
    "if g<90:\n",
    "    print('A')\n",
    "elif g>80:\n",
    "    print('B')\n"
   ]
  },
  {
   "cell_type": "code",
   "execution_count": 31,
   "metadata": {},
   "outputs": [
    {
     "name": "stdout",
     "output_type": "stream",
     "text": [
      "False\n"
     ]
    }
   ],
   "source": [
    "a=5\n",
    "b=10\n",
    "print(a>b and a>1)"
   ]
  },
  {
   "cell_type": "code",
   "execution_count": 32,
   "metadata": {},
   "outputs": [
    {
     "name": "stdout",
     "output_type": "stream",
     "text": [
      "How much do you make60000\n",
      "How long have you been at your job?3\n",
      "You are qulify for a loan!\n"
     ]
    }
   ],
   "source": [
    "salary=float(input('How much do you make'))\n",
    "year=float(input('How long have you been at your job?'))\n",
    "if salary>=50000 and year >=2:\n",
    "    print('You are qulify for a loan!')\n",
    "else:\n",
    "    print('You are not qualify for a loan')"
   ]
  },
  {
   "cell_type": "code",
   "execution_count": 35,
   "metadata": {},
   "outputs": [
    {
     "name": "stdout",
     "output_type": "stream",
     "text": [
      "your number is 4\n"
     ]
    }
   ],
   "source": [
    "import random\n",
    "num=random.randint(1,5)\n",
    "print(\"your number is\",num)"
   ]
  },
  {
   "cell_type": "code",
   "execution_count": 38,
   "metadata": {},
   "outputs": [
    {
     "name": "stdout",
     "output_type": "stream",
     "text": [
      "Enter a number of stars (positive numbers only): 8\n",
      "~~~~~~~~\n",
      "~~~~~~~\n",
      "~~~~~~\n",
      "~~~~~\n",
      "~~~~\n",
      "~~~\n",
      "~~\n",
      "~\n"
     ]
    }
   ],
   "source": [
    "while True:\n",
    "    # ask user for a positive number\n",
    "    num = int(input(\"Enter a number of stars (positive numbers only): \"))\n",
    "    # if number is not valid reprompt\n",
    "    if num <= 0:\n",
    "        print(\"Invalid number, Positive numbers greater than zero only! Fool\")\n",
    "    # else break\n",
    "    else:\n",
    "        break\n",
    "\n",
    "# display the number of stars that represent the num entered\n",
    "# print(num*'*')\n",
    "\n",
    "# extended solution\n",
    "while num >= 1:\n",
    "    print(num * '~')\n",
    "    num -= 1\n"
   ]
  },
  {
   "cell_type": "code",
   "execution_count": 39,
   "metadata": {},
   "outputs": [
    {
     "name": "stdout",
     "output_type": "stream",
     "text": [
      "This will print 5 times\n",
      "This will print 5 times\n",
      "This will print 5 times\n",
      "This will print 5 times\n",
      "This will print 5 times\n"
     ]
    }
   ],
   "source": [
    "counter=0\n",
    "while counter<5:\n",
    "    print(\"This will print 5 times\")\n",
    "    counter+=1"
   ]
  },
  {
   "cell_type": "code",
   "execution_count": 43,
   "metadata": {},
   "outputs": [
    {
     "name": "stdout",
     "output_type": "stream",
     "text": [
      "1\n",
      "2\n",
      "3\n",
      "4\n",
      "50\n"
     ]
    }
   ],
   "source": [
    "for num in [1,2,3,4,50]:\n",
    "    print(num)"
   ]
  },
  {
   "cell_type": "code",
   "execution_count": 46,
   "metadata": {},
   "outputs": [
    {
     "name": "stdout",
     "output_type": "stream",
     "text": [
      "Number \t Square\n",
      "1 \t 1\n",
      "2 \t 4\n",
      "3 \t 9\n",
      "4 \t 16\n",
      "5 \t 25\n",
      "6 \t 36\n",
      "7 \t 49\n",
      "8 \t 64\n",
      "9 \t 81\n",
      "10 \t 100\n"
     ]
    }
   ],
   "source": [
    "m = 1\n",
    "n = 10\n",
    "\"\"\"\n",
    "for number in range(m, n+1):\n",
    "    print(\"The square of \", number, \"is\", number**2)\n",
    "\"\"\"\n",
    "print(\"Number\", \"\\t\", \"Square\")\n",
    "for number in range(m,n+1):\n",
    "    print(number,\"\\t\",number**2)\n"
   ]
  },
  {
   "cell_type": "code",
   "execution_count": 55,
   "metadata": {},
   "outputs": [
    {
     "name": "stdout",
     "output_type": "stream",
     "text": [
      "       1   2   3   4   5\n",
      "_ _ _ _ _ _ _ _ _ _ _ _ _ _ _ _ _ _ _ _ _ _ _ _ _ \n",
      "   1   1   2   3   4   5   6   7   8   9  10\n",
      "   2   2   4   6   8  10  12  14  16  18  20\n",
      "   3   3   6   9  12  15  18  21  24  27  30\n",
      "   4   4   8  12  16  20  24  28  32  36  40\n",
      "   5   5  10  15  20  25  30  35  40  45  50\n",
      "   6   6  12  18  24  30  36  42  48  54  60\n",
      "   7   7  14  21  28  35  42  49  56  63  70\n",
      "   8   8  16  24  32  40  48  56  64  72  80\n",
      "   9   9  18  27  36  45  54  63  72  81  90\n",
      "  10  10  20  30  40  50  60  70  80  90 100\n"
     ]
    }
   ],
   "source": [
    "print(\" \"*4,end=\"\")\n",
    " #header row\n",
    "for x in range(1,6):\n",
    "    print(format(x,\">4d\"), end=\"\")\n",
    "print()\n",
    "print(\"_ \"*25)\n",
    "for j in range(1,11):\n",
    "    print(format(j,\">4d\"), end=\"\")\n",
    "    for k in range(1,11):\n",
    "        print(format(k*j,\">4d\"), end=\"\")\n",
    "\n",
    "    print()\n"
   ]
  },
  {
   "cell_type": "code",
   "execution_count": 3,
   "metadata": {},
   "outputs": [
    {
     "name": "stdout",
     "output_type": "stream",
     "text": [
      "Helloooo\n"
     ]
    }
   ],
   "source": [
    "def hello():\n",
    "    print(\"Helloooo\")\n",
    "    \n",
    "hello()"
   ]
  },
  {
   "cell_type": "code",
   "execution_count": 6,
   "metadata": {},
   "outputs": [
    {
     "name": "stdout",
     "output_type": "stream",
     "text": [
      "How many bugs? 3\n",
      "3\n"
     ]
    }
   ],
   "source": [
    "def bugs():\n",
    "    numbugs = int(input('How many bugs? '))\n",
    "    print (numbugs)\n",
    "bugs()"
   ]
  },
  {
   "cell_type": "code",
   "execution_count": 7,
   "metadata": {},
   "outputs": [
    {
     "name": "stdout",
     "output_type": "stream",
     "text": [
      "25\n"
     ]
    }
   ],
   "source": [
    "def square(num):\n",
    "    print (num**2) # num assumes the value of the\n",
    "    # argument that is passed to\n",
    "    # the function (5)\n",
    "square(5)"
   ]
  },
  {
   "cell_type": "code",
   "execution_count": 8,
   "metadata": {},
   "outputs": [
    {
     "name": "stdout",
     "output_type": "stream",
     "text": [
      "starting with: 5\n",
      "function got: 5\n",
      "argument is now: 10\n",
      "ending with: 5\n"
     ]
    }
   ],
   "source": [
    "def change_me(v):\n",
    "    print (\"function got:\", v)\n",
    "    v = 10\n",
    "    print (\"argument is now:\", v)\n",
    "myvar = 5\n",
    "print (\"starting with:\", myvar)\n",
    "change_me(myvar)\n",
    "print (\"ending with:\", myvar)"
   ]
  },
  {
   "cell_type": "code",
   "execution_count": 9,
   "metadata": {},
   "outputs": [
    {
     "name": "stdout",
     "output_type": "stream",
     "text": [
      "h\n",
      "e\n",
      "l\n",
      "l\n",
      "o\n",
      "w\n",
      "w\n",
      "o\n",
      "r\n",
      "d\n",
      "s\n"
     ]
    }
   ],
   "source": [
    "for c in \"hellowwords\":\n",
    "    print(c)"
   ]
  },
  {
   "cell_type": "code",
   "execution_count": 11,
   "metadata": {},
   "outputs": [
    {
     "name": "stdout",
     "output_type": "stream",
     "text": [
      "There are 4 's' characters in the string Superman sings in the shower\n"
     ]
    }
   ],
   "source": [
    "word = 'Superman sings in the shower'\n",
    "counter = 0\n",
    "for c in word:\n",
    "     if c == 's' or c =='S':\n",
    "         counter += 1\n",
    "print (\"There are\", counter, \"'s' characters in the string\",\n",
    "word)"
   ]
  },
  {
   "cell_type": "code",
   "execution_count": 13,
   "metadata": {},
   "outputs": [
    {
     "name": "stdout",
     "output_type": "stream",
     "text": [
      "s\n"
     ]
    }
   ],
   "source": [
    "word = \"superman\"\n",
    "print (word[0])"
   ]
  },
  {
   "cell_type": "code",
   "execution_count": 14,
   "metadata": {
    "collapsed": true
   },
   "outputs": [],
   "source": [
    "word = \"hello\"\n",
    "newword = \"\"\n",
    "for c in word:\n",
    "    if c == 'e' or c == 'o':\n",
    "        newword += \"_\"\n",
    "    else:\n",
    "        newword += c"
   ]
  },
  {
   "cell_type": "code",
   "execution_count": 15,
   "metadata": {},
   "outputs": [
    {
     "data": {
      "text/plain": [
       "'h_ll_'"
      ]
     },
     "execution_count": 15,
     "metadata": {},
     "output_type": "execute_result"
    }
   ],
   "source": [
    "newword"
   ]
  },
  {
   "cell_type": "code",
   "execution_count": 18,
   "metadata": {},
   "outputs": [
    {
     "name": "stdout",
     "output_type": "stream",
     "text": [
      "found him!\n"
     ]
    }
   ],
   "source": [
    "word = \"Jackson James John Chris Tom\"\n",
    "if \"Chris\" in word:\n",
    "     print (\"found him!\")\n",
    "else:\n",
    "     print (\"can't find Chris\")"
   ]
  },
  {
   "cell_type": "code",
   "execution_count": 22,
   "metadata": {},
   "outputs": [
    {
     "name": "stdout",
     "output_type": "stream",
     "text": [
      "15\n"
     ]
    }
   ],
   "source": [
    "word = \"Like finding a needle in a haystack!\"\n",
    "location = word.find(\"needle\")\n",
    "print (location)"
   ]
  },
  {
   "cell_type": "code",
   "execution_count": 23,
   "metadata": {},
   "outputs": [
    {
     "name": "stdout",
     "output_type": "stream",
     "text": [
      "[1, 2, 3, 1, 2, 3, 1, 2, 3]\n"
     ]
    }
   ],
   "source": [
    "my_list = [1, 2, 3] * 3\n",
    "print (my_list)"
   ]
  },
  {
   "cell_type": "code",
   "execution_count": 25,
   "metadata": {},
   "outputs": [
    {
     "data": {
      "text/plain": [
       "[0, 2, 4, 6, 8]"
      ]
     },
     "execution_count": 25,
     "metadata": {},
     "output_type": "execute_result"
    }
   ],
   "source": [
    "even_numbers = list(range(0,10,2))\n",
    "even_numbers"
   ]
  },
  {
   "cell_type": "code",
   "execution_count": 27,
   "metadata": {},
   "outputs": [
    {
     "name": "stdout",
     "output_type": "stream",
     "text": [
      "pie is at postion # 1\n"
     ]
    }
   ],
   "source": [
    "my_list = ['pizza', 'pie', 'cake']\n",
    "if 'pie' in my_list:\n",
    "     location = my_list.index('pie')\n",
    "     print ('pie is at postion #', location)\n",
    "else:\n",
    "     print ('not found!')"
   ]
  },
  {
   "cell_type": "code",
   "execution_count": 29,
   "metadata": {},
   "outputs": [
    {
     "name": "stdout",
     "output_type": "stream",
     "text": [
      "[2.99, 1.99]\n"
     ]
    }
   ],
   "source": [
    "prices = [3.99, 2.99, 1.99]\n",
    "del prices[0] \n",
    "print(prices)"
   ]
  },
  {
   "cell_type": "code",
   "execution_count": 32,
   "metadata": {},
   "outputs": [
    {
     "name": "stdout",
     "output_type": "stream",
     "text": [
      "['Ada', 'Professor', 'NYU']\n"
     ]
    }
   ],
   "source": [
    "mystring = \"Ada,Professor,NYU\"\n",
    "splitstring = mystring.split(\",\")\n",
    "print (splitstring)"
   ]
  },
  {
   "cell_type": "code",
   "execution_count": 34,
   "metadata": {
    "collapsed": true
   },
   "outputs": [],
   "source": [
    "import urllib.request\n",
    "# where should we obtain data from?\n",
    "#url = \"http://www.cnn.com\"\n",
    "# initiate request to URL\n",
    "#response = urllib.request.urlopen(url)\n",
    "# read data from URL as a string\n",
    "#data = response.read().decode('utf-8')\n",
    "#print (data)"
   ]
  },
  {
   "cell_type": "code",
   "execution_count": null,
   "metadata": {
    "collapsed": true
   },
   "outputs": [],
   "source": [
    "file_object = open(‘myfile.txt’, ‘w’)\n",
    "file_object.write(‘Ada’)\n",
    "file_object.write(‘hello’)\n",
    "# close the file when you’re done\n",
    "file_object.close()"
   ]
  },
  {
   "cell_type": "code",
   "execution_count": null,
   "metadata": {
    "collapsed": true
   },
   "outputs": [],
   "source": [
    "myvar = open(\"test.txt\", \"r”)\n",
    "alldata = myvar.read()\n",
    "print (alldata)\n",
    "myvar.close()"
   ]
  },
  {
   "cell_type": "code",
   "execution_count": null,
   "metadata": {
    "collapsed": true
   },
   "outputs": [],
   "source": [
    "myvar = open(\"test2.txt\", \"w”)\n",
    "myvar.write(str(55))\n",
    "myvar.close()"
   ]
  },
  {
   "cell_type": "code",
   "execution_count": 37,
   "metadata": {},
   "outputs": [
    {
     "name": "stdout",
     "output_type": "stream",
     "text": [
      "[1, 2, 3]\n",
      "1\n",
      "3\n"
     ]
    }
   ],
   "source": [
    "mylist = [ [1,2,3,],[2,3,4] ]\n",
    "print (mylist[0])\n",
    "print (mylist[0][0])\n",
    "print (mylist[1][1])"
   ]
  },
  {
   "cell_type": "code",
   "execution_count": 43,
   "metadata": {},
   "outputs": [
    {
     "name": "stdout",
     "output_type": "stream",
     "text": [
      "3.2\n"
     ]
    }
   ],
   "source": [
    "my_dictionary = { }\n",
    "my_dictionary[\"python\"] = 3.2\n",
    "print (my_dictionary[\"python\"] )"
   ]
  },
  {
   "cell_type": "code",
   "execution_count": 50,
   "metadata": {},
   "outputs": [
    {
     "name": "stdout",
     "output_type": "stream",
     "text": [
      "yes\n",
      "not in\n"
     ]
    }
   ],
   "source": [
    "my_dictionary = { \"python\":3.2, \"java\":1.8 }\n",
    "if  \"java\" in my_dictionary :\n",
    "    print('yes')\n",
    "del my_dictionary[\"java\"]\n",
    "if  \"java\" not in my_dictionary :\n",
    "    print('not in')\n",
    "my_dictionary.clear()"
   ]
  },
  {
   "cell_type": "code",
   "execution_count": 61,
   "metadata": {},
   "outputs": [
    {
     "name": "stdout",
     "output_type": "stream",
     "text": [
      "python == 3.2\n",
      "java == 1.8\n",
      "java == 1.8\n",
      "python == 3.2\n",
      "3.2\n",
      "1.8\n",
      "python 3.2\n",
      "java 1.8\n"
     ]
    }
   ],
   "source": [
    "my_dictionary = { \"python\":3.2, \"java\":1.8 }\n",
    "my_dictionary.keys()\n",
    "for key in my_dictionary.keys():\n",
    "    print (key, \"==\" , my_dictionary[key])\n",
    "for key in sorted( my_dictionary.keys() ):\n",
    "     print (key, \"==\" , my_dictionary[key])\n",
    "for v in my_dictionary.values():\n",
    "    print(v)\n",
    "for key, value in my_dictionary.items():\n",
    "    print (key, value)"
   ]
  },
  {
   "cell_type": "code",
   "execution_count": null,
   "metadata": {
    "collapsed": true
   },
   "outputs": [],
   "source": []
  }
 ],
 "metadata": {
  "kernelspec": {
   "display_name": "Python 3",
   "language": "python",
   "name": "python3"
  },
  "language_info": {
   "codemirror_mode": {
    "name": "ipython",
    "version": 3
   },
   "file_extension": ".py",
   "mimetype": "text/x-python",
   "name": "python",
   "nbconvert_exporter": "python",
   "pygments_lexer": "ipython3",
   "version": "3.6.0"
  }
 },
 "nbformat": 4,
 "nbformat_minor": 2
}
